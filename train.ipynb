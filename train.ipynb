{
 "cells": [
  {
   "cell_type": "code",
   "execution_count": 11,
   "metadata": {},
   "outputs": [],
   "source": [
    "from torch.utils.data import DataLoader\n",
    "from resnet import ResNet\n",
    "from sklearn.model_selection import train_test_split\n",
    "import numpy as np\n",
    "from custom_dataset import FinalDataset\n",
    "from SubSet import SignalDataset\n",
    "import torch\n",
    "from torch import nn"
   ]
  },
  {
   "cell_type": "code",
   "execution_count": null,
   "metadata": {},
   "outputs": [],
   "source": [
    "file_path= \"D:\\\\thesis_data\\\\filteredData.hdf5\""
   ]
  },
  {
   "cell_type": "code",
   "execution_count": null,
   "metadata": {},
   "outputs": [],
   "source": [
    "dataset = FinalDataset(file_path)\n",
    "for i in range(len(dataset)):\n",
    "    dataset.plotSignal(i)"
   ]
  },
  {
   "cell_type": "code",
   "execution_count": null,
   "metadata": {},
   "outputs": [],
   "source": [
    "total_size = len(dataset)\n",
    "indices = np.arange(total_size)\n",
    "np.random.shuffle(indices)\n",
    "train_indices, test_indices = train_test_split(indices, test_size=0.2)\n",
    "\n",
    "train_dataset = FinalDataset(file_path, indices=train_indices)\n",
    "test_dataset = FinalDataset(file_path, indices=test_indices)\n",
    "\n",
    "train_loader = DataLoader(train_dataset, batch_size=32, shuffle =True)\n",
    "test_loader = DataLoader(test_dataset, batch_size=32, shuffle=True)"
   ]
  },
  {
   "cell_type": "code",
   "execution_count": null,
   "metadata": {},
   "outputs": [],
   "source": [
    "model = ResNet(12,24)"
   ]
  },
  {
   "cell_type": "code",
   "execution_count": null,
   "metadata": {},
   "outputs": [],
   "source": [
    "model.train()"
   ]
  },
  {
   "cell_type": "code",
   "execution_count": null,
   "metadata": {},
   "outputs": [],
   "source": [
    "for id, (signal, label) in enumerate(train_loader):\n",
    "    output = model(signal)\n",
    "    print(output)\n",
    "    break\n"
   ]
  },
  {
   "cell_type": "code",
   "execution_count": 12,
   "metadata": {},
   "outputs": [],
   "source": [
    "signal_dataset = SignalDataset(file_path)\n",
    "signal_dataloader = DataLoader(signal_dataset, batch_size=32, shuffle=True)"
   ]
  },
  {
   "cell_type": "code",
   "execution_count": null,
   "metadata": {},
   "outputs": [
    {
     "name": "stdout",
     "output_type": "stream",
     "text": [
      "torch.Size([32, 4000, 12])\n",
      "torch.Size([32, 12, 4000])\n",
      "torch.Size([32, 95616])\n",
      "tensor(0.5468, grad_fn=<BinaryCrossEntropyBackward0>)\n",
      "torch.Size([32, 4000, 12])\n",
      "torch.Size([32, 12, 4000])\n",
      "torch.Size([32, 95616])\n",
      "tensor(1.4901e-08, grad_fn=<BinaryCrossEntropyBackward0>)\n",
      "torch.Size([32, 4000, 12])\n",
      "torch.Size([32, 12, 4000])\n",
      "torch.Size([32, 95616])\n",
      "tensor(0., grad_fn=<BinaryCrossEntropyBackward0>)\n",
      "torch.Size([32, 4000, 12])\n",
      "torch.Size([32, 12, 4000])\n",
      "torch.Size([32, 95616])\n",
      "tensor(3.1250, grad_fn=<BinaryCrossEntropyBackward0>)\n",
      "torch.Size([32, 4000, 12])\n",
      "torch.Size([32, 12, 4000])\n",
      "torch.Size([32, 95616])\n",
      "tensor(3.1250, grad_fn=<BinaryCrossEntropyBackward0>)\n",
      "torch.Size([32, 4000, 12])\n",
      "torch.Size([32, 12, 4000])\n",
      "torch.Size([32, 95616])\n",
      "tensor(0., grad_fn=<BinaryCrossEntropyBackward0>)\n",
      "torch.Size([32, 4000, 12])\n",
      "torch.Size([32, 12, 4000])\n",
      "torch.Size([32, 95616])\n",
      "tensor(0., grad_fn=<BinaryCrossEntropyBackward0>)\n",
      "torch.Size([32, 4000, 12])\n",
      "torch.Size([32, 12, 4000])\n",
      "torch.Size([32, 95616])\n",
      "tensor(0., grad_fn=<BinaryCrossEntropyBackward0>)\n",
      "torch.Size([32, 4000, 12])\n",
      "torch.Size([32, 12, 4000])\n",
      "torch.Size([32, 95616])\n",
      "tensor(0., grad_fn=<BinaryCrossEntropyBackward0>)\n",
      "torch.Size([32, 4000, 12])\n",
      "torch.Size([32, 12, 4000])\n",
      "torch.Size([32, 95616])\n",
      "tensor(0., grad_fn=<BinaryCrossEntropyBackward0>)\n"
     ]
    }
   ],
   "source": [
    "optimizer = torch.optim.Adam(model.parameters(), lr=0.001)\n",
    "loss_fn = nn.BCELoss()\n",
    "\n",
    "for epoch in range(10):\n",
    "    for id, (signal, label) in enumerate(signal_dataloader):\n",
    "        output = model(signal)\n",
    "        output = output.squeeze()\n",
    "        loss = loss_fn(output, label.float())\n",
    "        loss.backward()\n",
    "        optimizer.step()\n",
    "        print(loss)\n"
   ]
  }
 ],
 "metadata": {
  "kernelspec": {
   "display_name": ".venv",
   "language": "python",
   "name": "python3"
  },
  "language_info": {
   "codemirror_mode": {
    "name": "ipython",
    "version": 3
   },
   "file_extension": ".py",
   "mimetype": "text/x-python",
   "name": "python",
   "nbconvert_exporter": "python",
   "pygments_lexer": "ipython3",
   "version": "3.13.2"
  }
 },
 "nbformat": 4,
 "nbformat_minor": 2
}

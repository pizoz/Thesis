{
 "cells": [
  {
   "cell_type": "code",
   "execution_count": 1,
   "metadata": {},
   "outputs": [],
   "source": [
    "from torch.utils.data import DataLoader\n",
    "from resnet import ResNet\n",
    "from sklearn.model_selection import train_test_split\n",
    "import numpy as np\n",
    "from custom_dataset import FinalDataset\n",
    "import torch\n",
    "from torch import nn"
   ]
  },
  {
   "cell_type": "code",
   "execution_count": 2,
   "metadata": {},
   "outputs": [],
   "source": [
    "file_path= \"D:\\\\thesis_data\\\\filteredData.hdf5\""
   ]
  },
  {
   "cell_type": "code",
   "execution_count": 3,
   "metadata": {},
   "outputs": [],
   "source": [
    "dataset = FinalDataset(file_path)"
   ]
  },
  {
   "cell_type": "code",
   "execution_count": 4,
   "metadata": {},
   "outputs": [],
   "source": [
    "total_size = len(dataset)\n",
    "indices = np.arange(total_size)\n",
    "np.random.shuffle(indices)\n",
    "train_indices, test_indices = train_test_split(indices, test_size=0.2)\n",
    "\n",
    "train_dataset = FinalDataset(file_path, indices=train_indices)\n",
    "test_dataset = FinalDataset(file_path, indices=test_indices)\n",
    "\n",
    "train_loader = DataLoader(train_dataset, batch_size=32, shuffle =True)\n",
    "test_loader = DataLoader(test_dataset, batch_size=32, shuffle=True)"
   ]
  },
  {
   "cell_type": "code",
   "execution_count": 5,
   "metadata": {},
   "outputs": [],
   "source": [
    "model = ResNet(12,24)"
   ]
  },
  {
   "cell_type": "code",
   "execution_count": 6,
   "metadata": {},
   "outputs": [
    {
     "data": {
      "text/plain": [
       "ResNet(\n",
       "  (Conv1): Conv1d(12, 24, kernel_size=(3,), stride=(1,), padding=(1,))\n",
       "  (BatchNorm1): BatchNorm1d(24, eps=1e-05, momentum=0.1, affine=True, track_running_stats=True)\n",
       "  (ReLU1): ReLU()\n",
       "  (ResBlocks): Sequential(\n",
       "    (0): ResBlock(\n",
       "      (MaxPool1): MaxPool1d(kernel_size=3, stride=2, padding=0, dilation=1, ceil_mode=False)\n",
       "      (Conv1_A): Conv1d(24, 48, kernel_size=(1,), stride=(1,))\n",
       "      (Conv1_B): Conv1d(24, 48, kernel_size=(3,), stride=(2,))\n",
       "      (BatchNorm1): BatchNorm1d(48, eps=1e-05, momentum=0.1, affine=True, track_running_stats=True)\n",
       "      (ReLU1): ReLU()\n",
       "      (Dropout1): Dropout(p=0.5, inplace=False)\n",
       "      (Conv2_B): Conv1d(48, 48, kernel_size=(3,), stride=(1,), padding=(1,))\n",
       "      (BatchNorm2): BatchNorm1d(48, eps=1e-05, momentum=0.1, affine=True, track_running_stats=True)\n",
       "      (ReLU2): ReLU()\n",
       "      (Dropout2): Dropout(p=0.5, inplace=False)\n",
       "    )\n",
       "    (1): ResBlock(\n",
       "      (MaxPool1): MaxPool1d(kernel_size=3, stride=2, padding=0, dilation=1, ceil_mode=False)\n",
       "      (Conv1_A): Conv1d(48, 96, kernel_size=(1,), stride=(1,))\n",
       "      (Conv1_B): Conv1d(48, 96, kernel_size=(3,), stride=(2,))\n",
       "      (BatchNorm1): BatchNorm1d(96, eps=1e-05, momentum=0.1, affine=True, track_running_stats=True)\n",
       "      (ReLU1): ReLU()\n",
       "      (Dropout1): Dropout(p=0.5, inplace=False)\n",
       "      (Conv2_B): Conv1d(96, 96, kernel_size=(3,), stride=(1,), padding=(1,))\n",
       "      (BatchNorm2): BatchNorm1d(96, eps=1e-05, momentum=0.1, affine=True, track_running_stats=True)\n",
       "      (ReLU2): ReLU()\n",
       "      (Dropout2): Dropout(p=0.5, inplace=False)\n",
       "    )\n",
       "    (2): ResBlock(\n",
       "      (MaxPool1): MaxPool1d(kernel_size=3, stride=2, padding=0, dilation=1, ceil_mode=False)\n",
       "      (Conv1_A): Conv1d(96, 192, kernel_size=(1,), stride=(1,))\n",
       "      (Conv1_B): Conv1d(96, 192, kernel_size=(3,), stride=(2,))\n",
       "      (BatchNorm1): BatchNorm1d(192, eps=1e-05, momentum=0.1, affine=True, track_running_stats=True)\n",
       "      (ReLU1): ReLU()\n",
       "      (Dropout1): Dropout(p=0.5, inplace=False)\n",
       "      (Conv2_B): Conv1d(192, 192, kernel_size=(3,), stride=(1,), padding=(1,))\n",
       "      (BatchNorm2): BatchNorm1d(192, eps=1e-05, momentum=0.1, affine=True, track_running_stats=True)\n",
       "      (ReLU2): ReLU()\n",
       "      (Dropout2): Dropout(p=0.5, inplace=False)\n",
       "    )\n",
       "    (3): ResBlock(\n",
       "      (MaxPool1): MaxPool1d(kernel_size=3, stride=2, padding=0, dilation=1, ceil_mode=False)\n",
       "      (Conv1_A): Conv1d(192, 384, kernel_size=(1,), stride=(1,))\n",
       "      (Conv1_B): Conv1d(192, 384, kernel_size=(3,), stride=(2,))\n",
       "      (BatchNorm1): BatchNorm1d(384, eps=1e-05, momentum=0.1, affine=True, track_running_stats=True)\n",
       "      (ReLU1): ReLU()\n",
       "      (Dropout1): Dropout(p=0.5, inplace=False)\n",
       "      (Conv2_B): Conv1d(384, 384, kernel_size=(3,), stride=(1,), padding=(1,))\n",
       "      (BatchNorm2): BatchNorm1d(384, eps=1e-05, momentum=0.1, affine=True, track_running_stats=True)\n",
       "      (ReLU2): ReLU()\n",
       "      (Dropout2): Dropout(p=0.5, inplace=False)\n",
       "    )\n",
       "  )\n",
       "  (Flatten): Flatten(start_dim=1, end_dim=-1)\n",
       "  (Dense): Linear(in_features=95616, out_features=1, bias=True)\n",
       "  (Sigmoid): Sigmoid()\n",
       ")"
      ]
     },
     "execution_count": 6,
     "metadata": {},
     "output_type": "execute_result"
    }
   ],
   "source": [
    "model.train()"
   ]
  },
  {
   "cell_type": "code",
   "execution_count": 7,
   "metadata": {},
   "outputs": [
    {
     "name": "stdout",
     "output_type": "stream",
     "text": [
      "torch.Size([32, 4000, 12])\n",
      "torch.Size([32, 12, 4000])\n",
      "torch.Size([32, 95616])\n",
      "tensor([[0.6087],\n",
      "        [0.5174],\n",
      "        [0.4733],\n",
      "        [0.4741],\n",
      "        [0.5934],\n",
      "        [0.3882],\n",
      "        [0.9047],\n",
      "        [0.6364],\n",
      "        [0.4763],\n",
      "        [0.5705],\n",
      "        [0.4037],\n",
      "        [0.5458],\n",
      "        [0.5808],\n",
      "        [0.3848],\n",
      "        [0.5228],\n",
      "        [0.7869],\n",
      "        [0.5427],\n",
      "        [0.6348],\n",
      "        [0.4867],\n",
      "        [0.3911],\n",
      "        [0.8466],\n",
      "        [0.4466],\n",
      "        [0.4581],\n",
      "        [0.4979],\n",
      "        [0.4943],\n",
      "        [0.6146],\n",
      "        [0.5293],\n",
      "        [0.5112],\n",
      "        [0.4458],\n",
      "        [0.4302],\n",
      "        [0.4783],\n",
      "        [0.5587]], grad_fn=<SigmoidBackward0>)\n"
     ]
    }
   ],
   "source": [
    "for id, (signal, label) in enumerate(train_loader):\n",
    "    output = model(signal)\n",
    "    print(output)\n",
    "    break\n"
   ]
  },
  {
   "cell_type": "code",
   "execution_count": null,
   "metadata": {},
   "outputs": [
    {
     "name": "stdout",
     "output_type": "stream",
     "text": [
      "torch.Size([32, 4000, 12])\n",
      "torch.Size([32, 12, 4000])\n",
      "torch.Size([32, 95616])\n"
     ]
    },
    {
     "ename": "TypeError",
     "evalue": "'torch.dtype' object is not callable",
     "output_type": "error",
     "traceback": [
      "\u001b[1;31m---------------------------------------------------------------------------\u001b[0m",
      "\u001b[1;31mTypeError\u001b[0m                                 Traceback (most recent call last)",
      "Cell \u001b[1;32mIn[12], line 8\u001b[0m\n\u001b[0;32m      6\u001b[0m output \u001b[38;5;241m=\u001b[39m model(signal)\n\u001b[0;32m      7\u001b[0m output \u001b[38;5;241m=\u001b[39m output\u001b[38;5;241m.\u001b[39msqueeze()\n\u001b[1;32m----> 8\u001b[0m loss \u001b[38;5;241m=\u001b[39m loss_fn(output, \u001b[43mtorch\u001b[49m\u001b[38;5;241;43m.\u001b[39;49m\u001b[43mfloat\u001b[49m\u001b[43m(\u001b[49m\u001b[43mlabel\u001b[49m\u001b[43m)\u001b[49m)\n\u001b[0;32m      9\u001b[0m loss\u001b[38;5;241m.\u001b[39mbackward()\n\u001b[0;32m     10\u001b[0m optimizer\u001b[38;5;241m.\u001b[39mstep()\n",
      "\u001b[1;31mTypeError\u001b[0m: 'torch.dtype' object is not callable"
     ]
    }
   ],
   "source": [
    "optimizer = torch.optim.Adam(model.parameters(), lr=0.001)\n",
    "loss_fn = nn.BCELoss()\n",
    "\n",
    "for epoch in range(10):\n",
    "    for id, (signal, label) in enumerate(train_loader):\n",
    "        output = model(signal)\n",
    "        output = output.squeeze()\n",
    "        loss = loss_fn(output, label.float())\n",
    "        loss.backward()\n",
    "        optimizer.step()\n",
    "        print(loss)\n",
    "        break\n"
   ]
  }
 ],
 "metadata": {
  "kernelspec": {
   "display_name": ".venv",
   "language": "python",
   "name": "python3"
  },
  "language_info": {
   "codemirror_mode": {
    "name": "ipython",
    "version": 3
   },
   "file_extension": ".py",
   "mimetype": "text/x-python",
   "name": "python",
   "nbconvert_exporter": "python",
   "pygments_lexer": "ipython3",
   "version": "3.13.2"
  }
 },
 "nbformat": 4,
 "nbformat_minor": 2
}

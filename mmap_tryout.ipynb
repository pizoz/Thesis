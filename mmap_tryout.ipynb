{
 "cells": [
  {
   "cell_type": "code",
   "execution_count": null,
   "metadata": {},
   "outputs": [],
   "source": [
    "\n",
    "import h5py\n",
    "import numpy as np\n",
    "from torch.utils.data import DataLoader\n",
    "import numpy as np\n",
    "from custom_dataset import FinalDataset\n",
    "\n",
    "hdf5_file = \"D:/thesis_data/filteredData.hdf5\"\n",
    "dataset = FinalDataset(hdf5_file)\n",
    "# c = 0\n",
    "# with h5py.File(hdf5_file, \"r\") as f:\n",
    "#     dataset_name = \"signals\"\n",
    "    \n",
    "#     if dataset_name in f:\n",
    "#         dataset = f[dataset_name]\n",
    "\n",
    "#         print(f\"Dataset '{dataset_name}' contains {len(dataset)} signals.\")\n",
    "\n",
    "#         for i, signal in enumerate(dataset):\n",
    "#             if np.all(signal == 0):\n",
    "#                 print(signal)\n",
    "#                 c += 1\n",
    "#         print(f\"Number of signals that are entirely zeros: {c}\")\n",
    "#     else:\n",
    "#         print(f\"Dataset '{dataset_name}' not found in the HDF5 file.\")\n",
    "\n",
    "for i in range(len(dataset)):\n",
    "    #check if the signal is all zeros\n",
    "    if np.all(dataset[i][0] == 0):\n",
    "        print(i)\n",
    "        dataset.plotSignal(i)\n",
    "        break"
   ]
  },
  {
   "cell_type": "code",
   "execution_count": null,
   "metadata": {},
   "outputs": [],
   "source": []
  }
 ],
 "metadata": {
  "kernelspec": {
   "display_name": "Python 3",
   "language": "python",
   "name": "python3"
  },
  "language_info": {
   "codemirror_mode": {
    "name": "ipython",
    "version": 3
   },
   "file_extension": ".py",
   "mimetype": "text/x-python",
   "name": "python",
   "nbconvert_exporter": "python",
   "pygments_lexer": "ipython3",
   "version": "3.13.2"
  }
 },
 "nbformat": 4,
 "nbformat_minor": 2
}

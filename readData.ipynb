{
 "cells": [
  {
   "cell_type": "code",
   "execution_count": null,
   "metadata": {},
   "outputs": [],
   "source": [
    "# imports\n",
    "import h5py\n",
    "import csv\n",
    "import numpy as np\n",
    "import os\n",
    "import pandas as pd\n",
    "import scipy\n"
   ]
  },
  {
   "cell_type": "markdown",
   "metadata": {},
   "source": [
    "<h4>Data Loading</h4>"
   ]
  },
  {
   "cell_type": "code",
   "execution_count": null,
   "metadata": {},
   "outputs": [],
   "source": [
    "#Reading and combining the two csv files\n",
    "\n",
    "# HDF5 file with exam_id and tracings\n",
    "filename = \"./data/exams_part0.hdf5\"\n",
    "\n",
    "# CSV file with exam_id, patient_Id and label\n",
    "df_sample1 = pd.read_csv(\"./data/code15_chagas_labels.csv\")\n",
    "\n",
    "# main CSV file\n",
    "df_sample2 = pd.read_csv(\"./data/exams.csv\")\n",
    "\n",
    "lista = ['exam_id','patient_id']\n",
    "\n",
    "# csv file with exam_id, patient_id and label\n",
    "df_master = pd.merge(df_sample2, df_sample1, on=lista, how='left')\n",
    "\n",
    "# saving it as  a file\n",
    "df_master.to_csv('data/exams_labels.csv', index=False)"
   ]
  },
  {
   "cell_type": "markdown",
   "metadata": {},
   "source": [
    "<h4>Code15% data</h4>"
   ]
  },
  {
   "cell_type": "code",
   "execution_count": null,
   "metadata": {},
   "outputs": [],
   "source": [
    "#Saving important information in a dictionary\n",
    "\n",
    "import h5py\n",
    "import csv\n",
    "import numpy as np\n",
    "import os\n",
    "import pandas as pd\n",
    "import scipy\n",
    "\n",
    "# reading file HDF5 separing the two datasets\n",
    "df_master = pd.read_csv('data/exams_labels.csv')\n",
    "# pupulating the dictionary exam_ids_and_signals\n",
    "exam_ids_to_chagas = dict()\n",
    "\n",
    "with open(\"data/merged.csv\", newline=\"\\n\") as csvfile:\n",
    "    reader = csv.DictReader(csvfile)\n",
    "    for row in reader:\n",
    "        exam_id = int(row['exam_id'])\n",
    "        boolean = bool(row['chagas'])\n",
    "        exam_ids_to_chagas[exam_id] = boolean\n",
    "\n",
    "# list of files to read\n",
    "files = [\"./data/exams_part\"+str(i)+\".hdf5\" for i in range(0,18)]\n",
    "\n",
    "# populating the dictionary exam_ids_and_signals\n",
    "exam_ids_and_signals = dict()\n",
    "\n",
    "for filename in files:\n",
    "    # if the file doesn not exist, skip it\n",
    "    if (os.path.exists(filename) == False):\n",
    "        continue\n",
    "\n",
    "    print(\"Reading file: \", filename)\n",
    "\n",
    "    with h5py.File(filename, \"r\") as ecgs:\n",
    "\n",
    "        exam_ids = list(ecgs['exam_id'])\n",
    "        num_exams = len(exam_ids)\n",
    "        \n",
    "        for i in range(num_exams):\n",
    "            exam_id = exam_ids[i]\n",
    "            \n",
    "            if exam_id not in exam_ids_to_chagas:\n",
    "                continue\n",
    "            else:\n",
    "                # add the exam id and the ECG signal to the dictionary\n",
    "                exam_ids_and_signals[exam_id] = ecgs['tracings'][i]\n",
    "print(\"Number of ECGS:\",len(exam_ids_and_signals))\n",
    "print(\"Number of Exams:\",len(exam_ids_to_chagas))\n",
    "# so at the end i got\n",
    "# exam_ids_to_chagas that maps the exam id to Chagas disease label\n",
    "# exam_ids_and_signals that maps the exam id to the ECG signal\n"
   ]
  },
  {
   "cell_type": "markdown",
   "metadata": {},
   "source": [
    "<h4>Sami-Trop</h4>"
   ]
  },
  {
   "cell_type": "code",
   "execution_count": null,
   "metadata": {},
   "outputs": [],
   "source": [
    "# every patient has Chagas, so to have the label i just need to add a column and set it to true for every patient\n",
    "import csv\n",
    "import h5py\n",
    "import numpy as np\n",
    "\n",
    "sami_exam_ids = []\n",
    "# reading the csv file in order to get the exam_id and adding the label in the dictionary\n",
    "with open(\"data/examsSAMI.csv\", newline=\"\\n\") as csvfile:\n",
    "    reader = csv.DictReader(csvfile)\n",
    "    for row in reader:\n",
    "        exam_id = int(row['exam_id'])\n",
    "        sami_exam_ids.append(exam_id)\n",
    "        if exam_id not in exam_ids_to_chagas:\n",
    "            exam_ids_to_chagas[exam_id] = True\n",
    "\n",
    "# reading the HDF5 file and adding the signal to the dictionary\n",
    "with h5py.File(\"data/examsSAMI.hdf5\", \"r\") as ecgs:\n",
    "    num_exams = len(sami_exam_ids)\n",
    "    for i in range(num_exams):\n",
    "        exam_id = sami_exam_ids[i]\n",
    "        exam_ids_and_signals[exam_id] = ecgs['tracings'][i]\n",
    "\n",
    "for exam_id, ecg in exam_ids_and_signals.items():\n",
    "    if ecg.shape[0] == 4096:\n",
    "        start = 48\n",
    "        end = 4048\n",
    "        sliced_signal = ecg[start:end,:]\n",
    "        exam_ids_and_signals[exam_id] = sliced_signal\n",
    "    print(\"Sliced signal shape: \", sliced_signal.shape)\n",
    "print(\"Number of ECGS: \", len(exam_ids_and_signals))\n",
    "print(\"Number of Exams: \", len(exam_ids_to_chagas))\n",
    "        "
   ]
  },
  {
   "cell_type": "markdown",
   "metadata": {},
   "source": [
    "<h4>PTB-XL"
   ]
  },
  {
   "cell_type": "markdown",
   "metadata": {},
   "source": []
  },
  {
   "cell_type": "markdown",
   "metadata": {},
   "source": [
    "<h4>Butterworth bandpass filter</h4>"
   ]
  },
  {
   "cell_type": "code",
   "execution_count": null,
   "metadata": {},
   "outputs": [],
   "source": [
    "# Bandpass filter\n",
    "def butter_bandpass_filter(data,lowcut, highcut, fs,order):\n",
    "\n",
    "    nyquist_freq = 0.5 * fs\n",
    "    low = lowcut / nyquist_freq\n",
    "    high = highcut / nyquist_freq\n",
    "\n",
    "    b,a = scipy.signal.butter(order, [low, high], btype='band')\n",
    "    y = scipy.signal.filtfilt(b, a, data,axis=0)\n",
    "\n",
    "    return y\n",
    "\n",
    "# signal info for the bandpass filter\n",
    "fs = 400\n",
    "lowcut = 0.5\n",
    "highcut = 40\n",
    "\n",
    "filtered_signals = dict()\n",
    "\n",
    "for exam_id, signal in exam_ids_and_signals.items():\n",
    "    filtered_signal = butter_bandpass_filter(signal, lowcut, highcut, fs,3)\n",
    "    filtered_signals[exam_id] = filtered_signal\n",
    "\n",
    "print(\"Filtering done\")\n",
    "print(\"Number of Filtered ECGS:\",len(filtered_signals))"
   ]
  },
  {
   "cell_type": "markdown",
   "metadata": {},
   "source": [
    "<h4>Signal shortening</h4>"
   ]
  },
  {
   "cell_type": "code",
   "execution_count": null,
   "metadata": {},
   "outputs": [],
   "source": [
    "# Shortening the signals to 10 seconds if needed\n",
    "import torch\n",
    "exam_id_and_tuple = dict()\n",
    "\n",
    "for exam_id, signal in filtered_signals.items():\n",
    "    if exam_id in exam_ids_to_chagas:\n",
    "        if (signal.shape[0] != 4000):\n",
    "        # riconverto il segnale in un tensore, utilizzo la copy per evitare errori con stripe negativa\n",
    "            signal = torch.tensor(signal.copy())\n",
    "\n",
    "            signal = torch.narrow(signal, 0, 0, 4000)\n",
    "        \n",
    "        exam_id_and_tuple[exam_id] = (signal, exam_ids_to_chagas[exam_id])\n",
    "        if signal.shape[0] != 4000:\n",
    "            print(\"Male\")\n",
    "\n",
    "print(\"Numero di tuple (Chagas Label, ECG):\",len(exam_id_and_tuple))"
   ]
  }
 ],
 "metadata": {
  "kernelspec": {
   "display_name": ".venv",
   "language": "python",
   "name": "python3"
  },
  "language_info": {
   "codemirror_mode": {
    "name": "ipython",
    "version": 3
   },
   "file_extension": ".py",
   "mimetype": "text/x-python",
   "name": "python",
   "nbconvert_exporter": "python",
   "pygments_lexer": "ipython3",
   "version": "3.13.2"
  }
 },
 "nbformat": 4,
 "nbformat_minor": 2
}

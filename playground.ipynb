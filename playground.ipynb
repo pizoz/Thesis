{
 "cells": [
  {
   "cell_type": "code",
   "execution_count": null,
   "metadata": {},
   "outputs": [],
   "source": [
    "from custom_dataset import FinalDataset\n",
    "from torch.utils.data import DataLoader\n",
    "\n",
    "dataset = FinalDataset(\"finalData.hdf5\")"
   ]
  },
  {
   "cell_type": "code",
   "execution_count": null,
   "metadata": {},
   "outputs": [],
   "source": [
    "count = 0\n",
    "\n",
    "for i in range(len(dataset)):\n",
    "    if count == 2:\n",
    "        break\n",
    "    if dataset[i][1] == 1 and count == 0:\n",
    "        count = 1\n",
    "        dataset.plotSignal(i)\n",
    "    elif dataset[i][1] == 0 and count == 1:\n",
    "        count = 2\n",
    "        dataset.plotSignal(i)\n",
    "    \n",
    "        "
   ]
  }
 ],
 "metadata": {
  "kernelspec": {
   "display_name": ".venv",
   "language": "python",
   "name": "python3"
  },
  "language_info": {
   "codemirror_mode": {
    "name": "ipython",
    "version": 3
   },
   "file_extension": ".py",
   "mimetype": "text/x-python",
   "name": "python",
   "nbconvert_exporter": "python",
   "pygments_lexer": "ipython3",
   "version": "3.13.2"
  }
 },
 "nbformat": 4,
 "nbformat_minor": 2
}
